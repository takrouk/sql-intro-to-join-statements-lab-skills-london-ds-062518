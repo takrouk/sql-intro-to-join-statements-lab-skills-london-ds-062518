{
 "cells": [
  {
   "cell_type": "markdown",
   "metadata": {},
   "source": [
    "# Introduction to JOIN Statements Lab"
   ]
  },
  {
   "cell_type": "markdown",
   "metadata": {},
   "source": [
    "In this lab we will practice writing JOIN statements to query across two tables.  The tables will be associated through a \"has many\" and \"belongs to\" relationship."
   ]
  },
  {
   "cell_type": "markdown",
   "metadata": {},
   "source": [
    "## Objectives\n",
    "\n",
    "1. Become comfortable writing various SQL JOIN statements\n",
    "2. Select rows on both tables where certain values match using `INNER JOIN`\n",
    "3. Write `LEFT JOIN` statements to get all the rows from the left table and the matching rows from the right table"
   ]
  },
  {
   "cell_type": "markdown",
   "metadata": {},
   "source": [
    "## Superheroes and Super Squads\n",
    "\n",
    "![](https://img.cinemablend.com/cb/1/2/d/c/d/5/12dcd57724f3c02e6f802dda3d56bd09996e236b062a2214f7c97c3e3f17a690.jpg)\n",
    "\n",
    "### Download the Database\n",
    "> Download the repo with dabase `superheroes.db` at the link provided. \n",
    "\n",
    "> Open the database with SQLite Browser\n",
    "\n",
    "Our database contains two tables: `superheroes` and `squads`.  We have seeded the database with fifteen superheroes and three superhero teams.  The superheroes table contains a column of foreign keys called `squad_id`.  Each superhero is assigned to one of the `squads` depending upon the assigned `squad_id`.  Therefore, a superhero \"belongs to\" the team with that matching `id`.  The two tables are shown below:\n",
    "\n",
    "\n",
    "`Squads:`\n",
    "\n",
    "id  |name\n",
    "----|--------\n",
    "1   |Avengers\n",
    "2   |Justice League\n",
    "3   |The Illuminati\n",
    "\n",
    "\n",
    "\n",
    "\n",
    "`Superheroes:`\n",
    "\n",
    "id  |name           |real_identity        |superpower                     |weakness          |squad_id\n",
    "----|---------------|---------------------|-------------------------------|------------------|---------\n",
    "1   |Batman         |Bruce Wayne          |works hard                     |mortal human      |2\n",
    "2   |Superman       |Clark Kent           |superstrength                  |kryptonite        |2\n",
    "3   |Thor           |Thor Odinson         |summons lightning              |ego               |1\n",
    "4   |Iron Man       |Tony Stark           |ultra smart                    |mortal human      |1\n",
    "5   |Wonder Woman   |Diana Prince         |superstrength                  |broken bracelets  |2\n",
    "6   |Captain America|Steve Rogers         |superstrength                  |mortal human      |1\n",
    "7   |Aquaman        |Arthur Curry         |breaths underwater             |needs water nearby|2\n",
    "8   |Black Panther  |T'Challa             |speed and agility              |mortal human      |1\n",
    "9   |Black Widow    |Natasha Romanoff     |expert martial artist          |mortal human      |1\n",
    "10  |Hulk           |Bruce Banner         |rage                           |rage              |1\n",
    "11  |Cyborg         |Victor Stone         |technorganic physiology        |hackers           |2\n",
    "12  |Megaman        |NULL                 |elemental-mechanical physiology|hackers           |NULL\n",
    "13  |StretcherFlex  |Jean-Claude Van Damme|enhanced flexibility           |mortal human      |NULL\n",
    "14  |Goku           |Kakarot              |superstrength                  |myopia            |NULL\n",
    "15  |Green Lantern  |Alan Scott           |magic ring                     |the color yellow  |2"
   ]
  },
  {
   "cell_type": "markdown",
   "metadata": {},
   "source": [
    "## Queries\n",
    "\n",
    "Write your queries in the \"Execute SQL\" tab in SQLIte broswer.  "
   ]
  },
  {
   "cell_type": "markdown",
   "metadata": {},
   "source": [
    "#### 1.  `select_hero_names_and_squad_names_of_heroes_belonging_to_a_team`\n",
    "\n",
    "Write a query that returns superhero names and the squad name for only the superheroes that belongs to a squad.\n",
    "\n",
    "The query's return dataset should like like the following:\n",
    "\n",
    "name            |name          \n",
    "----------------|--------------\n",
    "Batman          |Justice League\n",
    "Superman        |Justice League\n",
    "Thor            |Avengers      \n",
    "Iron Man        |Avengers      \n",
    "Wonder Woman    |Justice League\n",
    "Captain America |Avengers      \n",
    "Aquaman         |Justice League\n",
    "Black Panther   |Avengers      \n",
    "Black Widow     |Avengers      \n",
    "Hulk            |Avengers      \n",
    "Cyborg          |Justice League\n",
    "Green Lantern   |Justice League"
   ]
  },
  {
   "cell_type": "markdown",
   "metadata": {},
   "source": [
    "#### 2. `reformatted_query`\n",
    "\n",
    "Great!  We selected all the superheroes belonging to a team.  However, our formatting is messy.  Let’s rewrite this query to group all the above superheroes according to their team name.  Also, both columns are called `name`, so let’s alias the `squads.name` to `team`.\n",
    "\n",
    "The query should return the following:\n",
    "\n",
    "name            |team          \n",
    "----------------|--------------\n",
    "Thor            |Avengers\n",
    "Iron Man        |Avengers\n",
    "Captain America |Avengers      \n",
    "Black Panther   |Avengers      \n",
    "Wonder Woman    |Avengers\n",
    "Hulk            |Avengers      \n",
    "Batman          |Justice League\n",
    "Superman        |Justice League      \n",
    "Wonder Woman    |Justice League      \n",
    "Aquaman         |Justice League      \n",
    "Cyborg          |Justice League\n",
    "Green Lantern   |Justice League"
   ]
  },
  {
   "cell_type": "markdown",
   "metadata": {},
   "source": [
    "#### 3.  `all_superheroes`\n",
    "\n",
    "Cool!  However, let's take another look at our `superheroes` table.  Aren’t there some heroes belonging to no team?  Write a query that returns the `name`s and `superpower`s of all `superheroes` regardless of their affiliation to a team.  Again, make sure to also include `squads.name` aliased as `team`.\n",
    "\n",
    "The query should return the following:\n",
    "\n",
    "name             |superpower                      |team      \n",
    "-----------------|--------------------------------|----------\n",
    "Megaman          |elemental-mechanical physiology |           \n",
    "StretcherFlex    |enhanced flexibility            |           \n",
    "Goku             |superstrength                   |           \n",
    "Thor             |summons lightning               |Avengers  \n",
    "Iron Man         |ultra smart                     |Avengers  \n",
    "Captain America  |superstrength                   |Avengers  \n",
    "Black Panther    |speed and agility               |Avengers  \n",
    "Black Widow      |expert martial artist           |Avengers  \n",
    "Hulk             |rage                            |Avengers  \n",
    "Batman           |works hard                      |Justice League\n",
    "Superman         |superstrength                   |Justice League\n",
    "Wonder Woman     |superstrength                   |Justice League\n",
    "Aquaman          |breaths underwater              |Justice League\n",
    "Cyborg           |technorganic physiology         |Justice League\n",
    "Green Lantern    |magic ring                      |Justice League"
   ]
  },
  {
   "cell_type": "markdown",
   "metadata": {},
   "source": [
    "#### 4. `all_squads`\n",
    "\n",
    "Take another look at our `squads` table.  Notice that there is also one squad with NO members!  Write a `JOIN` statement that returns the `name` of each squad and a count for all of its members aliased as `num_of_members`.  (*Hint:* You will need to use a `GROUP BY clause` here.)\n",
    "\n",
    "Note that we are using sqlite3, which does not support `RIGHT JOIN` or `FULL OUTER JOIN`.  We need to reformat our query so that we can use `LEFT JOIN` to get the result we want.  \n",
    "\n",
    "The query should return the following:\n",
    "\n",
    "name          |num_of_members\n",
    "--------------|--------------\n",
    "Avengers      |6             \n",
    "Justice Leauge|6             \n",
    "The Illuminati|0             \n",
    "\n",
    "The Illuminati haven't existed since the late 18th Century, so perhaps their lack of members isn't such a surprise!"
   ]
  },
  {
   "cell_type": "markdown",
   "metadata": {},
   "source": [
    "## Summary"
   ]
  },
  {
   "cell_type": "markdown",
   "metadata": {},
   "source": [
    "Great job! In this lab, we practiced writing JOIN statements that return to us information from two tables instead of just one table, like when we were writing SELECT statements. "
   ]
  }
 ],
 "metadata": {
  "kernelspec": {
   "display_name": "Python 3",
   "language": "python",
   "name": "python3"
  },
  "language_info": {
   "codemirror_mode": {
    "name": "ipython",
    "version": 3
   },
   "file_extension": ".py",
   "mimetype": "text/x-python",
   "name": "python",
   "nbconvert_exporter": "python",
   "pygments_lexer": "ipython3",
   "version": "3.6.4"
  }
 },
 "nbformat": 4,
 "nbformat_minor": 2
}
